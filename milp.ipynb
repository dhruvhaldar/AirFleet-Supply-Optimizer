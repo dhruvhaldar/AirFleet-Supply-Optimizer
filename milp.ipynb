{
 "cells": [
  {
   "cell_type": "markdown",
   "id": "6b4c0d6e",
   "metadata": {},
   "source": [
    "# Aerospace Spare Parts Optimization\n",
    "\n",
    "This notebook formulates and solves a **multi-period aerospace spare parts distribution problem** using **Mixed Integer Linear Programming (MILP)**.\n",
    "\n",
    "We use the `PuLP` Python library to:\n",
    "- Minimize the total cost (transport, purchase, holding, shortage, and fixed ordering).\n",
    "- Manage spare parts inventories at bases.\n",
    "- Satisfy demand at multiple stations.\n",
    "- Handle truck capacity limits and optional air shipments.\n",
    "- Incorporate repair returns and order lead times.\n",
    "\n",
    "This model reflects **real-world aerospace logistics challenges** in maintaining operational readiness."
   ]
  },
  {
   "cell_type": "code",
   "execution_count": 1,
   "id": "6cd3dafb",
   "metadata": {},
   "outputs": [
    {
     "ename": "ModuleNotFoundError",
     "evalue": "No module named 'tabulate'",
     "output_type": "error",
     "traceback": [
      "\u001b[31m---------------------------------------------------------------------------\u001b[39m",
      "\u001b[31mModuleNotFoundError\u001b[39m                       Traceback (most recent call last)",
      "\u001b[36mCell\u001b[39m\u001b[36m \u001b[39m\u001b[32mIn[1]\u001b[39m\u001b[32m, line 6\u001b[39m\n\u001b[32m      4\u001b[39m \u001b[38;5;28;01mimport\u001b[39;00m\u001b[38;5;250m \u001b[39m\u001b[34;01mio\u001b[39;00m\n\u001b[32m      5\u001b[39m \u001b[38;5;28;01mimport\u001b[39;00m\u001b[38;5;250m \u001b[39m\u001b[34;01msys\u001b[39;00m\n\u001b[32m----> \u001b[39m\u001b[32m6\u001b[39m \u001b[38;5;28;01mfrom\u001b[39;00m\u001b[38;5;250m \u001b[39m\u001b[34;01mtabulate\u001b[39;00m\u001b[38;5;250m \u001b[39m\u001b[38;5;28;01mimport\u001b[39;00m tabulate\n",
      "\u001b[31mModuleNotFoundError\u001b[39m: No module named 'tabulate'"
     ]
    }
   ],
   "source": [
    "# transport_spare_parts_milp.ipynb\n",
    "import pulp\n",
    "import time\n",
    "import io\n",
    "import sys\n",
    "from tabulate import tabulate"
   ]
  },
  {
   "cell_type": "markdown",
   "id": "d7545930",
   "metadata": {},
   "source": [
    "## 1. Problem Data\n",
    "\n",
    "We define:\n",
    "- Bases: where parts are stored and shipped from.\n",
    "- Stations: demand points for spare parts.\n",
    "- Parts: two spare parts (`P1`, `P2`).\n",
    "- Periods: 3 planning periods.\n",
    "\n",
    "The dataset includes:\n",
    "- Initial inventories.\n",
    "- Demand forecasts.\n",
    "- Transport costs (truck and air).\n",
    "- Truck capacity.\n",
    "- Purchase, holding, and shortage costs.\n",
    "- Repair return fractions."
   ]
  },
  {
   "cell_type": "code",
   "execution_count": null,
   "id": "cfc13652",
   "metadata": {},
   "outputs": [],
   "source": [
    "Bases = [\"Delhi\", \"Mumbai\", \"Bengaluru\"]\n",
    "Stations = [\"Kolkata\", \"Hyderabad\", \"Chennai\"]\n",
    "Parts = [\"P1\", \"P2\"]\n",
    "Periods = [1, 2, 3]\n",
    "\n",
    "# Initial inventories\n",
    "init_inv = {\n",
    "    (\"Delhi\", \"P1\"): 10, (\"Delhi\", \"P2\"): 5,\n",
    "    (\"Mumbai\", \"P1\"): 8, (\"Mumbai\", \"P2\"): 8,\n",
    "    (\"Bengaluru\", \"P1\"): 5, (\"Bengaluru\", \"P2\"): 10,\n",
    "}\n",
    "\n",
    "# Demand forecasts\n",
    "demand = {\n",
    "    1: { \"Kolkata\": {\"P1\": 8,  \"P2\": 6},\n",
    "         \"Hyderabad\": {\"P1\": 12, \"P2\": 10},\n",
    "         \"Chennai\": {\"P1\": 10, \"P2\": 12}},\n",
    "    2: { \"Kolkata\": {\"P1\": 10, \"P2\": 8},\n",
    "         \"Hyderabad\": {\"P1\": 11, \"P2\": 11},\n",
    "         \"Chennai\": {\"P1\": 12, \"P2\": 9}},\n",
    "    3: { \"Kolkata\": {\"P1\": 9,  \"P2\": 10},\n",
    "         \"Hyderabad\": {\"P1\": 13, \"P2\": 12},\n",
    "         \"Chennai\": {\"P1\": 11, \"P2\": 13}},\n",
    "}\n",
    "\n",
    "# Transport costs\n",
    "truck_cost = {\n",
    "    (\"Delhi\",\"Kolkata\"): 1.8, (\"Delhi\",\"Hyderabad\"): 2.0, (\"Delhi\",\"Chennai\"): 2.2,\n",
    "    (\"Mumbai\",\"Kolkata\"): 2.1, (\"Mumbai\",\"Hyderabad\"): 1.9, (\"Mumbai\",\"Chennai\"): 2.0,\n",
    "    (\"Bengaluru\",\"Kolkata\"): 2.6, (\"Bengaluru\",\"Hyderabad\"): 1.8, (\"Bengaluru\",\"Chennai\"): 1.6,\n",
    "}\n",
    "air_cost = {k: v + 1.5 for k,v in truck_cost.items()}\n",
    "\n",
    "# Truck capacities\n",
    "truck_capacity = {\"Delhi\": 25, \"Mumbai\": 20, \"Bengaluru\": 18}\n",
    "\n",
    "# Cost parameters\n",
    "purchase_cost = {\"P1\": 5.0, \"P2\": 7.0}\n",
    "fixed_order_cost = 50.0\n",
    "holding_cost = {\"P1\": 0.2, \"P2\": 0.25}\n",
    "shortage_cost = {\"P1\": 20.0, \"P2\": 25.0}\n",
    "\n",
    "# Repair return fractions\n",
    "repair_return = {\"P1\": 0.20, \"P2\": 0.10}\n",
    "\n",
    "# Big-M constant\n",
    "BIGM = 1e6"
   ]
  },
  {
   "cell_type": "markdown",
   "id": "63442a67",
   "metadata": {},
   "source": [
    "## 2. Model Formulation\n",
    "\n",
    "- **Decision variables:**\n",
    "  - Orders placed from suppliers.\n",
    "  - Binary indicator for fixed order cost.\n",
    "  - Shipments via truck and air.\n",
    "  - Inventory at bases.\n",
    "  - Shortages and consumed quantities at stations.\n",
    "\n",
    "- **Objective:** Minimize total costs.\n",
    "- **Constraints:**\n",
    "  1. Order binary linking.\n",
    "  2. Truck capacity.\n",
    "  3. Inventory balance (with repair returns).\n",
    "  4. Demand satisfaction (consumed + shortage).\n",
    "  5. Flow conservation."
   ]
  },
  {
   "cell_type": "code",
   "execution_count": null,
   "id": "4be80e6e",
   "metadata": {},
   "outputs": [],
   "source": [
    "# Define model\n",
    "model = pulp.LpProblem(\"Aerospace_Spare_Parts_MILP\", pulp.LpMinimize)\n",
    "\n",
    "# Decision variables\n",
    "order_qty = pulp.LpVariable.dicts(\"OrderQty\", ((b,p,t) for b in Bases for p in Parts for t in Periods), lowBound=0)\n",
    "y_order   = pulp.LpVariable.dicts(\"Y_Order\",  ((b,t) for b in Bases for t in Periods), lowBound=0, upBound=1, cat=\"Binary\")\n",
    "ship_truck= pulp.LpVariable.dicts(\"ShipTruck\",((b,s,p,t) for b in Bases for s in Stations for p in Parts for t in Periods), lowBound=0)\n",
    "ship_air  = pulp.LpVariable.dicts(\"ShipAir\",  ((b,s,p,t) for b in Bases for s in Stations for p in Parts for t in Periods), lowBound=0)\n",
    "inventory = pulp.LpVariable.dicts(\"Inv\",     ((b,p,t) for b in Bases for p in Parts for t in Periods), lowBound=0)\n",
    "shortage  = pulp.LpVariable.dicts(\"Shortage\",((s,p,t) for s in Stations for p in Parts for t in Periods), lowBound=0)\n",
    "consumed  = pulp.LpVariable.dicts(\"Consumed\",((s,p,t) for s in Stations for p in Parts for t in Periods), lowBound=0)"
   ]
  },
  {
   "cell_type": "code",
   "execution_count": null,
   "id": "5a13577f",
   "metadata": {},
   "outputs": [],
   "source": [
    "# Objective function\n",
    "transport_cost = pulp.lpSum([truck_cost[(b,s)] * ship_truck[(b,s,p,t)] + air_cost[(b,s)] * ship_air[(b,s,p,t)]\n",
    "                             for b in Bases for s in Stations for p in Parts for t in Periods])\n",
    "purchase_cost_total = pulp.lpSum([purchase_cost[p] * order_qty[(b,p,t)] for b in Bases for p in Parts for t in Periods])\n",
    "fixed_order_total   = pulp.lpSum([fixed_order_cost * y_order[(b,t)] for b in Bases for t in Periods])\n",
    "holding_cost_total  = pulp.lpSum([holding_cost[p] * inventory[(b,p,t)] for b in Bases for p in Parts for t in Periods])\n",
    "shortage_cost_total = pulp.lpSum([shortage_cost[p] * shortage[(s,p,t)] for s in Stations for p in Parts for t in Periods])\n",
    "\n",
    "model += (transport_cost + purchase_cost_total + fixed_order_total + holding_cost_total + shortage_cost_total)"
   ]
  },
  {
   "cell_type": "markdown",
   "id": "799711bf",
   "metadata": {},
   "source": [
    "### Constraints"
   ]
  },
  {
   "cell_type": "code",
   "execution_count": null,
   "id": "ccf95b88",
   "metadata": {},
   "outputs": [],
   "source": [
    "# 1) Order linking\n",
    "for b in Bases:\n",
    "    for t in Periods:\n",
    "        model += pulp.lpSum([order_qty[(b,p,t)] for p in Parts]) <= BIGM * y_order[(b,t)]\n",
    "\n",
    "# 2) Truck capacity\n",
    "for b in Bases:\n",
    "    for t in Periods:\n",
    "        model += pulp.lpSum([ship_truck[(b,s,p,t)] for s in Stations for p in Parts]) <= truck_capacity[b]\n",
    "\n",
    "# 3) Inventory balance with returns\n",
    "for b in Bases:\n",
    "    for p in Parts:\n",
    "        total_init = sum(init_inv.get((bb,p), 0) for bb in Bases)\n",
    "        base_share = init_inv.get((b,p), 0) / total_init if total_init > 0 else 1/len(Bases)\n",
    "        for t in Periods:\n",
    "            arrivals = order_qty[(b,p,t-1)] if t-1 >= 1 else 0\n",
    "            returns = repair_return[p] * base_share * pulp.lpSum([consumed[(s,p,t-1)] for s in Stations]) if t-1 >= 1 else 0\n",
    "            outflows = pulp.lpSum([ship_truck[(b,s,p,t)] + ship_air[(b,s,p,t)] for s in Stations])\n",
    "            if t == 1:\n",
    "                model += init_inv.get((b,p), 0) + arrivals + returns - outflows == inventory[(b,p,t)]\n",
    "            else:\n",
    "                model += inventory[(b,p,t-1)] + arrivals + returns - outflows == inventory[(b,p,t)]\n",
    "\n",
    "# 4) Demand satisfaction\n",
    "for t in Periods:\n",
    "    for s in Stations:\n",
    "        for p in Parts:\n",
    "            model += consumed[(s,p,t)] + shortage[(s,p,t)] == demand[t][s][p]\n",
    "\n",
    "# 5) Flow conservation\n",
    "for t in Periods:\n",
    "    for s in Stations:\n",
    "        for p in Parts:\n",
    "            model += pulp.lpSum([ship_truck[(b,s,p,t)] + ship_air[(b,s,p,t)] for b in Bases]) == consumed[(s,p,t)]"
   ]
  },
  {
   "cell_type": "markdown",
   "id": "9c529263",
   "metadata": {},
   "source": [
    "## 3. Solve the Model"
   ]
  },
  {
   "cell_type": "code",
   "execution_count": null,
   "id": "2a4e2213",
   "metadata": {},
   "outputs": [],
   "source": [
    "solver = pulp.PULP_CBC_CMD(msg=1, timeLimit=60)\n",
    "start = time.time()\n",
    "old_stdout = sys.stdout\n",
    "sys.stdout = mystdout = io.StringIO()\n",
    "result = model.solve(solver)\n",
    "sys.stdout = old_stdout\n",
    "end = time.time()\n",
    "cbc_log = mystdout.getvalue().splitlines()\n",
    "\n",
    "print(\"Status:\", pulp.LpStatus[model.status])\n",
    "print(f\"Objective (Total cost, ₹k): {pulp.value(model.objective):.2f}\")\n",
    "print(f\"Solve Time: {end - start:.3f} seconds\")"
   ]
  },
  {
   "cell_type": "markdown",
   "id": "69a5beb7",
   "metadata": {},
   "source": [
    "## 4. Results Summary"
   ]
  },
  {
   "cell_type": "code",
   "execution_count": null,
   "id": "39a4027c",
   "metadata": {},
   "outputs": [],
   "source": [
    "# Orders\n",
    "order_table = []\n",
    "for b in Bases:\n",
    "    for t in Periods:\n",
    "        for p in Parts:\n",
    "            q = order_qty[(b,p,t)].value()\n",
    "            if q and q > 1e-6:\n",
    "                order_table.append([b,t,p,q])\n",
    "print(\"Orders placed:\")\n",
    "print(tabulate(order_table, headers=[\"Base\",\"Period\",\"Part\",\"OrderQty\"], floatfmt=\".1f\")) if order_table else print(\"No orders placed.\")\n",
    "\n",
    "# Shipments\n",
    "ship_rows = []\n",
    "for b in Bases:\n",
    "    for s in Stations:\n",
    "        for p in Parts:\n",
    "            for t in Periods:\n",
    "                st = ship_truck[(b,s,p,t)].value() or 0.0\n",
    "                sa = ship_air[(b,s,p,t)].value() or 0.0\n",
    "                if st > 1e-6 or sa > 1e-6:\n",
    "                    ship_rows.append([b,s,p,t,st,sa])\n",
    "print(\"\\nShipments:\")\n",
    "print(tabulate(ship_rows, headers=[\"Base\",\"Station\",\"Part\",\"Period\",\"Truck\",\"Air\"], floatfmt=\".1f\"))\n",
    "\n",
    "# Inventories\n",
    "inv_rows = []\n",
    "for b in Bases:\n",
    "    for p in Parts:\n",
    "        for t in Periods:\n",
    "            inv = inventory[(b,p,t)].value() or 0.0\n",
    "            if inv > 1e-6:\n",
    "                inv_rows.append([b,p,t,inv])\n",
    "print(\"\\nInventory levels:\")\n",
    "print(tabulate(inv_rows, headers=[\"Base\",\"Part\",\"Period\",\"Inv_End\"], floatfmt=\".1f\"))\n",
    "\n",
    "# Shortages\n",
    "sh_rows = []\n",
    "for s in Stations:\n",
    "    for p in Parts:\n",
    "        for t in Periods:\n",
    "            sh = shortage[(s,p,t)].value() or 0.0\n",
    "            if sh > 1e-6:\n",
    "                sh_rows.append([s,p,t,sh])\n",
    "print(\"\\nShortages:\")\n",
    "print(tabulate(sh_rows, headers=[\"Station\",\"Part\",\"Period\",\"Shortage\"], floatfmt=\".1f\")) if sh_rows else print(\"No shortages.\")"
   ]
  }
 ],
 "metadata": {
  "kernelspec": {
   "display_name": "my-pypy-venv",
   "language": "python",
   "name": "python3"
  },
  "language_info": {
   "codemirror_mode": {
    "name": "ipython",
    "version": 3
   },
   "file_extension": ".py",
   "mimetype": "text/x-python",
   "name": "python",
   "nbconvert_exporter": "python",
   "pygments_lexer": "ipython3",
   "version": "3.11.13"
  }
 },
 "nbformat": 4,
 "nbformat_minor": 5
}
